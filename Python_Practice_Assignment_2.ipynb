{
  "nbformat": 4,
  "nbformat_minor": 0,
  "metadata": {
    "colab": {
      "provenance": [],
      "authorship_tag": "ABX9TyPcN9n4TpaxcyIkzDAe/QgM",
      "include_colab_link": true
    },
    "kernelspec": {
      "name": "python3",
      "display_name": "Python 3"
    },
    "language_info": {
      "name": "python"
    }
  },
  "cells": [
    {
      "cell_type": "markdown",
      "metadata": {
        "id": "view-in-github",
        "colab_type": "text"
      },
      "source": [
        "<a href=\"https://colab.research.google.com/github/rohitboltfree/LIVE_CODE_EDITOR/blob/main/Python_Practice_Assignment_2.ipynb\" target=\"_parent\"><img src=\"https://colab.research.google.com/assets/colab-badge.svg\" alt=\"Open In Colab\"/></a>"
      ]
    },
    {
      "cell_type": "code",
      "execution_count": null,
      "metadata": {
        "colab": {
          "base_uri": "https://localhost:8080/"
        },
        "id": "VDXxqeGyuZUU",
        "outputId": "df999f1f-dd61-485d-f9c7-57c982e4cf55"
      },
      "outputs": [
        {
          "output_type": "stream",
          "name": "stdout",
          "text": [
            "Enter any no. i will tell you if it is a palindrome no or not \t 121\n",
            "palindrome\n"
          ]
        }
      ],
      "source": [
        "#Q1: palindrome number\n",
        "num = input('Enter any no. i will tell you if it is a palindrome no or not \\t ')\n",
        "\n",
        "if num == num[::-1]:\n",
        "    print('palindrome')\n",
        "else:\n",
        "    print('not palindrome')"
      ]
    },
    {
      "cell_type": "code",
      "source": [
        "# Q2: geometric progression sequence\n",
        "your_num = input('Enter the no. for you want the geometric progression sequence using (n^2/2) \\t')\n",
        "your_num = int(your_num)\n",
        "sum = your_num ** 2 / 2\n",
        "print(sum)\n"
      ],
      "metadata": {
        "colab": {
          "base_uri": "https://localhost:8080/"
        },
        "id": "PWIRKWfBugyb",
        "outputId": "1010929a-8ff0-46ad-c8b3-c0a0fa5ced18"
      },
      "execution_count": null,
      "outputs": [
        {
          "output_type": "stream",
          "name": "stdout",
          "text": [
            "Enter the no. for you want the geometric progression sequence using (n^2/2) \t5\n",
            "12.5\n"
          ]
        }
      ]
    },
    {
      "cell_type": "code",
      "source": [
        "# Q3: write a code to find the no of head and tail if you toss/flip the coin 10 times\n",
        "no_in_which_head_comes = 0\n",
        "no_in_which_tail_comes = 0\n",
        "no_toss = input('Enter the no. of times you want to toss the coin \\t')\n",
        "no_toss = int(no_toss)\n",
        "\n",
        "while no_toss > 0:\n",
        "  if no_toss % 2 == 0:\n",
        "    no_in_which_tail_comes += 1\n",
        "  else:\n",
        "    no_in_which_head_comes += 1\n",
        "  no_toss -= 1\n",
        "\n",
        "print(no_in_which_head_comes)\n",
        "print(no_in_which_tail_comes)"
      ],
      "metadata": {
        "colab": {
          "base_uri": "https://localhost:8080/"
        },
        "id": "tBEdmu2DwLCl",
        "outputId": "a4b19c64-cb48-422f-817d-265a15594e7d"
      },
      "execution_count": null,
      "outputs": [
        {
          "output_type": "stream",
          "name": "stdout",
          "text": [
            "Enter the no. of times you want to toss the coin \t9\n",
            "5\n",
            "4\n"
          ]
        }
      ]
    },
    {
      "cell_type": "code",
      "source": [
        "# Q3 method 2nd\n",
        "import random\n",
        "\n",
        "head_count = 0\n",
        "tail_count = 0\n",
        "\n",
        "tosses = int(input('Enter the range for that you want me to flip the coin fairy \\t '))\n",
        "for _ in range(tosses):\n",
        "  flip = random.choice([\"head\",\"tail\"])\n",
        "  if flip == \"tail\":\n",
        "    tail_count += 1\n",
        "  else:\n",
        "    head_count += 1\n",
        "\n",
        "print(head_count)\n",
        "print(tail_count)\n"
      ],
      "metadata": {
        "colab": {
          "base_uri": "https://localhost:8080/"
        },
        "id": "TNU0yxUhxNKe",
        "outputId": "317afaad-26bb-4f70-da40-99ab38e99815"
      },
      "execution_count": null,
      "outputs": [
        {
          "output_type": "stream",
          "name": "stdout",
          "text": [
            "Enter the range for that you want me to flip the coin fairy \t 2\n",
            "2\n",
            "0\n"
          ]
        }
      ]
    },
    {
      "cell_type": "code",
      "source": [
        "#  Q4 A program that reads a text file and read all the words and tell me\n",
        "with open('index.txt', 'w') as file:\n",
        "  file.write('python practice assignment 2 \\n')\n",
        "  file.write('my assignment question no. 4 ')\n",
        "  file.close()\n",
        "\n",
        "  file = open('index.txt', 'r')\n",
        "  data = file.read()\n",
        "  count_the_word = len(data.split())\n",
        "  print(count_the_word)\n",
        "  file.close()\n"
      ],
      "metadata": {
        "colab": {
          "base_uri": "https://localhost:8080/"
        },
        "id": "zgURSp0GzOte",
        "outputId": "27de6731-88d4-40f0-f506-6b478fd78662"
      },
      "execution_count": null,
      "outputs": [
        {
          "output_type": "stream",
          "name": "stdout",
          "text": [
            "9\n"
          ]
        }
      ]
    },
    {
      "cell_type": "code",
      "source": [
        "# Q5 Generate and Map Random Numbers\n",
        "\n",
        "## Task Description\n",
        "# - Generate **N** random numbers in the range **(a, b)**.\n",
        "# - Map these numbers to a new range **(c, d)** with **4 decimal place precision**.\n",
        "# - Store the results in a file in the following format:\n",
        "\n",
        "### File Format\n",
        "import random\n",
        "\n",
        "random_range_s = input(\"enter the starting range of random numbers \\t\")\n",
        "random_range_s = float(random_range_s)\n",
        "random_range_e = input(\"enter the ending range of random numbers \\t\")\n",
        "random_range_e = float(random_range_e)\n",
        "\n",
        "# new range input\n",
        "new_range_s = input(\"enter the starting range of new random numbers \\t\")\n",
        "new_range_s = float(new_range_s)\n",
        "new_range_e = input(\"enter the ending range of new random numbers \\t\")\n",
        "new_range_e = float(new_range_e)\n",
        "\n",
        "random_num_file = 'random_num_file.txt'\n",
        "# generating a file for your output\n",
        "with open('random_num_file', 'w') as file:\n",
        "  for _ in range(5):\n",
        "    random_num = random.uniform(random_range_s, random_range_e)\n",
        "    mapped_num = new_range_s + ((random_num - random_range_s) / (random_range_e - random_range_s)) * (new_range_e - new_range_s)\n",
        "\n",
        "    file.write(f\"{random_num:.4f} {mapped_num:.4f}\\n\")\n",
        "\n",
        "\n",
        "print(f\"Random numbers and their mapped values are saved in '{random_num_file}'.\")\n",
        "file = open('random_num_file', 'r')\n",
        "data = file.read()\n",
        "print(data)\n",
        "file.close()\n",
        "\n"
      ],
      "metadata": {
        "colab": {
          "base_uri": "https://localhost:8080/"
        },
        "id": "hGlae42318GX",
        "outputId": "c7950a33-d55c-4b62-9a3a-75c11227592c"
      },
      "execution_count": null,
      "outputs": [
        {
          "output_type": "stream",
          "name": "stdout",
          "text": [
            "enter the starting range of random numbers \t0\n",
            "enter the ending range of random numbers \t10\n",
            "enter the starting range of new random numbers \t2\n",
            "enter the ending range of new random numbers \t8\n",
            "Random numbers and their mapped values are saved in 'random_num_file.txt'.\n",
            "1.0288 2.6173\n",
            "1.3424 2.8054\n",
            "5.2202 5.1321\n",
            "0.5464 2.3278\n",
            "7.2253 6.3352\n",
            "\n"
          ]
        }
      ]
    },
    {
      "cell_type": "code",
      "source": [
        "# Q6 find net salary with the basis of mothly gross salary\n",
        "\n",
        "employee_id = 1001\n",
        "basic_salary = 15000\n",
        "allowance = 6000\n",
        "\n",
        "gross_salary = basic_salary + allowance\n",
        "\n",
        "if gross_salary <= 5000:\n",
        "  income_tax =0\n",
        "elif gross_salary <= 10000:\n",
        "  income_tax = 0.10 * gross_salary\n",
        "elif gross_salary <= 20000:\n",
        "  income_tax = 0.20 * gross_salary\n",
        "else:\n",
        "  income_tax = 0.30 * gross_salary\n",
        "\n",
        "net_salary = gross_salary - income_tax\n",
        "\n",
        "print(f\"Employee ID: {employee_id}\")\n",
        "print(f\"Gross Salary: {gross_salary}\")\n",
        "print(f\"Income Tax: {income_tax}\")\n",
        "print(f\"Net Salary: {net_salary}\")\n"
      ],
      "metadata": {
        "colab": {
          "base_uri": "https://localhost:8080/"
        },
        "id": "Z2gVVZLw5suj",
        "outputId": "500a5af3-53e1-4257-9a01-c2dde7f0aa30"
      },
      "execution_count": null,
      "outputs": [
        {
          "output_type": "stream",
          "name": "stdout",
          "text": [
            "Employee ID: 1001\n",
            "Gross Salary: 21000\n",
            "Income Tax: 6300.0\n",
            "Net Salary: 14700.0\n"
          ]
        }
      ]
    },
    {
      "cell_type": "code",
      "source": [
        "# Q7 retail store management discount for a bill amount\n",
        "\n",
        "bill_amount = float(input('enter the bill amount \\t'))\n",
        "\n",
        "if bill_amount > 100 and bill_amount < 500 :\n",
        "  discount = 0.01 * bill_amount\n",
        "elif bill_amount >= 500 and bill_amount < 1000:\n",
        "  discount = 0.02 * bill_amount\n",
        "elif bill_amount >= 1000:\n",
        "  discount = 0.05 * bill_amount\n",
        "\n",
        "print(bill_amount)\n",
        "print(discount)\n",
        "print(bill_amount - discount)"
      ],
      "metadata": {
        "colab": {
          "base_uri": "https://localhost:8080/"
        },
        "id": "mUespieH3lbb",
        "outputId": "e76b741f-0159-4b3a-9e8d-65d3a4607eb2"
      },
      "execution_count": null,
      "outputs": [
        {
          "output_type": "stream",
          "name": "stdout",
          "text": [
            "enter the bill amount \t500\n",
            "500.0\n",
            "10.0\n",
            "490.0\n"
          ]
        }
      ]
    },
    {
      "cell_type": "code",
      "source": [
        "# Q8\n",
        "# bill id: 1001\n",
        "# customer id: 101\n",
        "# bill amount: rs.199.99\n",
        "\n",
        "bill_id= 1001\n",
        "customer_id = 101\n",
        "bill_amount = 199.99\n",
        "\n",
        "# Displaying the details\n",
        "print(\"Retail Store Billing System\")\n",
        "print(\"----------------------------\")\n",
        "print(f\"Bill ID      : {bill_id}\")\n",
        "print(f\"Customer ID  : {customer_id}\")\n",
        "print(f\"Bill Amount  : ${bill_amount:.2f}\")\n",
        "\n",
        "\n",
        "\n"
      ],
      "metadata": {
        "colab": {
          "base_uri": "https://localhost:8080/"
        },
        "id": "LARLRUpxOxtd",
        "outputId": "c0ab4a54-01d7-4693-8b5e-055ccd81f291"
      },
      "execution_count": null,
      "outputs": [
        {
          "output_type": "stream",
          "name": "stdout",
          "text": [
            "Retail Store Billing System\n",
            "----------------------------\n",
            "Bill ID      : 1001\n",
            "Customer ID  : 101\n",
            "Bill Amount  : $199.99\n"
          ]
        }
      ]
    },
    {
      "cell_type": "code",
      "source": [
        "class BankAccount:\n",
        "  def __init__(self, owner, balance):\n",
        "    self.owner = owner\n",
        "    self.__balance = balance\n",
        "\n",
        "  def deposit(self, amount):\n",
        "    if amount > 0:\n",
        "      self.__balance += amount\n",
        "      print(f\"Deposited ${amount}. New balance: ${self.__balance}\")\n",
        "    else:\n",
        "      print(\"Invalid deposit amount. Amount must be greater than 0.\")\n",
        "\n",
        "  def withdraw(self, amount):\n",
        "    if amount > 0 and amount <= self.__balance:\n",
        "      self.__balance -= amount\n",
        "      print(f\"Withdrew ${amount}. New balance: ${self.__balance}\")\n",
        "\n",
        "  def get_balance(self):\n",
        "    return self.__balance\n",
        "\n",
        "account = BankAccount(\"John Doe\", 1000)\n",
        "account.deposit(500)\n",
        "account.withdraw(200)\n",
        "print(f\"Current balance: ${account.get_balance()}\")"
      ],
      "metadata": {
        "id": "6F5IyaifQMUd",
        "colab": {
          "base_uri": "https://localhost:8080/"
        },
        "outputId": "cb6a7bb1-fa0d-4a16-dda7-4f9666745d7e"
      },
      "execution_count": null,
      "outputs": [
        {
          "output_type": "stream",
          "name": "stdout",
          "text": [
            "Deposited $500. New balance: $1500\n",
            "Withdrew $200. New balance: $1300\n",
            "Current balance: $1300\n"
          ]
        }
      ]
    },
    {
      "cell_type": "code",
      "source": [
        "class BankAccount:\n",
        "    def __init__(self, owner, balance):\n",
        "        self.owner = owner\n",
        "        self.__balance = balance  # private attribute\n",
        "\n",
        "    def deposit(self, amount):\n",
        "        if amount > 0:\n",
        "            self.__balance += amount\n",
        "            print(f\"Deposited {amount}. New balance: {self.__balance}\")\n",
        "        else:\n",
        "            print(\"Deposit amount must be positive.\")\n",
        "\n",
        "    def withdraw(self, amount):\n",
        "        if 0 < amount <= self.__balance:\n",
        "            self.__balance -= amount\n",
        "            print(f\"Withdrew {amount}. Remaining balance: {self.__balance}\")\n",
        "        else:\n",
        "            print(\"Insufficient funds or invalid amount.\")\n",
        "\n",
        "    def get_balance(self):\n",
        "        return self.__balance\n",
        "\n",
        "\n",
        "# Usage\n",
        "account = BankAccount(\"John\", 500)\n",
        "account.deposit(200)\n",
        "account.withdraw(100)\n",
        "print(\"Final Balance:\", account.get_balance())\n",
        "# print(account.__balance)  # This will give AttributeError due to private variable\n"
      ],
      "metadata": {
        "colab": {
          "base_uri": "https://localhost:8080/"
        },
        "id": "IuFKy8ZCTl0P",
        "outputId": "aec71dba-a06f-4a21-ffcd-57d77b2b28e8"
      },
      "execution_count": null,
      "outputs": [
        {
          "output_type": "stream",
          "name": "stdout",
          "text": [
            "Deposited 200. New balance: 700\n",
            "Withdrew 100. Remaining balance: 600\n",
            "Final Balance: 600\n"
          ]
        }
      ]
    },
    {
      "cell_type": "code",
      "source": [
        "class Animal :\n",
        "  def __init__(self, name):\n",
        "    self.name = name\n",
        "\n",
        "  def speak(self):\n",
        "    print(f\"{self.name} is fetching the ball!\")\n",
        "\n",
        "class Dog(Animal):\n",
        "  def speak(self):\n",
        "    print(f\"{self.name} says Woof!\")\n",
        "\n",
        "class Cat(Animal):\n",
        "  def speak(self):\n",
        "    print(f\"{self.name} says Meow!\")\n",
        "\n",
        "dog = Dog('buddy')\n",
        "dog.speak()\n",
        "cat = Cat('Whiskers')\n",
        "cat.speak()"
      ],
      "metadata": {
        "colab": {
          "base_uri": "https://localhost:8080/"
        },
        "id": "qn-1we-5Ut4c",
        "outputId": "0a7ac7f1-36e3-42db-e0b8-e83e8133b023"
      },
      "execution_count": null,
      "outputs": [
        {
          "output_type": "stream",
          "name": "stdout",
          "text": [
            "buddy says Woof!\n",
            "Whiskers says Meow!\n"
          ]
        }
      ]
    },
    {
      "cell_type": "code",
      "source": [
        "#  create an example of inheritance of class car will\n",
        "# method wheels, color, model & inherit this class eith extra feature.\n",
        "\n",
        "class car:\n",
        "  def __init__(self, wheels, color, model):\n",
        "    self.wheels = wheels\n",
        "    self.color = color\n",
        "    self.model = model\n",
        "\n",
        "  def NO_wheels(self):\n",
        "    print(f\"this car has {self.wheels} wheels\")\n",
        "\n",
        "  def Color(self):\n",
        "    print(f\"this car is {self.color}\")\n",
        "\n",
        "  def Model(self):\n",
        "    print(f\"model of this car is {self.model}\")\n",
        "\n",
        "class electric_car(car):\n",
        "  def __init__(self, wheels, color, model, battery_capacity):\n",
        "    super().__init__(wheels, color, model)\n",
        "    self.battery_capacity = battery_capacity\n",
        "\n",
        "vehicles = electric_car(4,\"red\",\"4aXz\",4000)\n",
        "vehicles.NO_wheels()\n",
        "vehicles.Color()\n",
        "vehicles.Model()\n",
        "print(vehicles.battery_capacity)"
      ],
      "metadata": {
        "colab": {
          "base_uri": "https://localhost:8080/"
        },
        "id": "-q6ACXPEXVOM",
        "outputId": "72dc98ac-5f72-44bc-fbe9-41e5bf49efac"
      },
      "execution_count": null,
      "outputs": [
        {
          "output_type": "stream",
          "name": "stdout",
          "text": [
            "this car has 4 wheels\n",
            "this car is red\n",
            "model of this car is 4aXz\n",
            "4000\n"
          ]
        }
      ]
    },
    {
      "cell_type": "code",
      "source": [
        "class Cars:\n",
        "  def __init__(self,model):\n",
        "    self.model = model\n",
        "\n",
        "  def colors(self):\n",
        "    return \"4 color v aval\"\n",
        "\n",
        "class BMW(Cars):\n",
        "  def color(self):\n",
        "    return \"2 color v aval\"\n",
        "\n",
        "class TATA(Cars):\n",
        "  def color(self):\n",
        "    return \"3 color v aval\"\n",
        "\n",
        "b1 = BMW(\"M8\")\n",
        "t1 = TATA(\"Safari\")\n",
        "print(b1.model)\n",
        "print(b1.colors())\n",
        "print(t1.model)\n",
        "print(t1.colors())"
      ],
      "metadata": {
        "id": "4Yjdu7KFY4Vt",
        "colab": {
          "base_uri": "https://localhost:8080/"
        },
        "outputId": "68c6820a-1c80-4996-dcae-4571063b3afb"
      },
      "execution_count": null,
      "outputs": [
        {
          "output_type": "stream",
          "name": "stdout",
          "text": [
            "M8\n",
            "4 color v aval\n",
            "Safari\n",
            "4 color v aval\n"
          ]
        }
      ]
    },
    {
      "cell_type": "code",
      "source": [
        "# function overloading\n",
        "\n",
        "class Calculator:\n",
        "    def add(self, a, b=None, c=None):\n",
        "        if b is None and c is None:\n",
        "            return a\n",
        "        elif b is not None and c is None:\n",
        "            return a + b\n",
        "        else:\n",
        "            return\n",
        "\n",
        "c = Calculator()\n",
        "print(c.add(10))\n",
        "print(c.add(10, 20))\n",
        "print(c.add(10, 20, 30))"
      ],
      "metadata": {
        "colab": {
          "base_uri": "https://localhost:8080/"
        },
        "id": "_wmE5gnhq3lU",
        "outputId": "fc096a5d-898f-4fd6-e52e-9c1574b48c24"
      },
      "execution_count": null,
      "outputs": [
        {
          "output_type": "stream",
          "name": "stdout",
          "text": [
            "10\n",
            "30\n",
            "None\n"
          ]
        }
      ]
    },
    {
      "cell_type": "code",
      "source": [
        "import random\n",
        "class ArrayOperations:\n",
        "    \"\"\"\n",
        "    Base class for array operations.\n",
        "    \"\"\"\n",
        "    def __init__(self, size):\n",
        "        \"\"\"\n",
        "        Initializes the ArrayOperations object with two arrays of the given size.\n",
        "        Args:\n",
        "            size (int): The size of the arrays.\n",
        "        \"\"\"\n",
        "        self.A = [random.uniform(-1, 1) for _ in range(size)]\n",
        "        self.B = [random.uniform(-1, 1) for _ in range(size)]\n",
        "\n",
        "    def inner_product(self):\n",
        "        \"\"\"\n",
        "        Calculates the inner product of arrays A and B.\n",
        "        Returns:\n",
        "            float: The inner product of A and B.\n",
        "        \"\"\"\n",
        "        product = 0\n",
        "        for i in range(len(self.A)):\n",
        "            product += self.A[i] * self.B[i]\n",
        "        return product\n",
        "class ArrayShifter(ArrayOperations):\n",
        "    \"\"\"\n",
        "    A class representing arrays with circular shift and inner product operations, inheriting from ArrayOperations.\n",
        "    \"\"\"\n",
        "    def __init__(self, size):\n",
        "        \"\"\"\n",
        "        Initializes the ArrayShifter object.\n",
        "        Args:\n",
        "            size (int): The size of the arrays.\n",
        "        \"\"\"\n",
        "        super().__init__(size)  # Initialize the base class\n",
        "    def circular_shift(self):\n",
        "        \"\"\"\n",
        "        Performs a circular shift on array B.\n",
        "        \"\"\"\n",
        "        temp = self.B[0]\n",
        "        for i in range(len(self.B) - 1):\n",
        "            self.B[i] = self.B[i + 1]\n",
        "        self.B[-1] = temp\n",
        "# Create an ArrayShifter object\n",
        "shifter = ArrayShifter(5)\n",
        "# Print the initial arrays\n",
        "print(\"Array A:\", shifter.A)\n",
        "print(\"Array B:\", shifter.B)\n",
        "# Perform circular shifts and calculate inner products\n",
        "for i in range(5):\n",
        "    shifter.circular_shift()\n",
        "    inner_product = shifter.inner_product()  # Using the inherited method\n",
        "    print(f\"Shift {i+1}: Inner product = {inner_product:.2f}\")\n"
      ],
      "metadata": {
        "colab": {
          "base_uri": "https://localhost:8080/"
        },
        "id": "-SrPwTkau_So",
        "outputId": "1c01aea9-d404-4e6a-c6d6-7d392fbc4797"
      },
      "execution_count": null,
      "outputs": [
        {
          "output_type": "stream",
          "name": "stdout",
          "text": [
            "Array A: [0.7438736046584848, 0.6444310829606625, 0.1510489891614144, -0.3977953451707186, -0.041079160616597665]\n",
            "Array B: [-0.6773540825874222, 0.764673773820306, -0.8340904200491335, 0.3113072162335482, 0.04796687153636037]\n",
            "Shift 1: Inner product = 0.09\n",
            "Shift 2: Inner product = -0.17\n",
            "Shift 3: Inner product = -0.11\n",
            "Shift 4: Inner product = 0.03\n",
            "Shift 5: Inner product = -0.26\n"
          ]
        }
      ]
    },
    {
      "cell_type": "code",
      "source": [
        "print(-18//4)"
      ],
      "metadata": {
        "id": "R53fPvL5z7QY",
        "outputId": "ee33663f-5bf5-41f7-9541-2a9e34719c3d",
        "colab": {
          "base_uri": "https://localhost:8080/"
        }
      },
      "execution_count": null,
      "outputs": [
        {
          "output_type": "stream",
          "name": "stdout",
          "text": [
            "-5\n"
          ]
        }
      ]
    },
    {
      "cell_type": "code",
      "source": [],
      "metadata": {
        "id": "3HiqXJRP_gki"
      },
      "execution_count": null,
      "outputs": []
    }
  ]
}